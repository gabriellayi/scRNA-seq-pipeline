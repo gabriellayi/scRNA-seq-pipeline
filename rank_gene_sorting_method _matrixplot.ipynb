{
 "cells": [
  {
   "cell_type": "code",
   "execution_count": null,
   "metadata": {},
   "outputs": [],
   "source": [
    "#rank genes in tuft subset, the comparison is between WT and G228W, to extract all the genes\n",
    "sc.tl.rank_genes_groups(tuft, 'batch', method='t-test', groups=['2'],reference='1',n_genes=-1)\n",
    "sc.pl.rank_genes_groups(tuft)"
   ]
  },
  {
   "cell_type": "code",
   "execution_count": null,
   "metadata": {},
   "outputs": [],
   "source": [
    "GW_CY_tuft=pd.DataFrame(tuft.uns['rank_genes_groups']['names'])"
   ]
  },
  {
   "cell_type": "code",
   "execution_count": null,
   "metadata": {},
   "outputs": [],
   "source": [
    "result = tuft.uns['rank_genes_groups']\n",
    "groups = result['names'].dtype.names\n",
    "df_WT_CY_tuft=pd.DataFrame(\n",
    "    {group + '_' + key[:1]: result[key][group]\n",
    "    for group in groups for key in ['names', 'pvals_adj','logfoldchanges']})"
   ]
  },
  {
   "cell_type": "code",
   "execution_count": null,
   "metadata": {},
   "outputs": [],
   "source": [
    "#select columns you'd like to work on, sort the values by adj_pval or Log2FC,order the values\n",
    "WT_CY_tuft=df_WT_CY_tuft[['0_n','0_p','0_l']].sort_values(by='0_l',axis=0,ascending=False)\n",
    "#select columns you'd like to work on, sort the values by adj_pval or Log2FC, '2_l'means we chose to sort batch#2 log2fc\n",
    "WT_GW_tuft=df_WT_GW_tuft.sort_values(by='2_l',axis=0,ascending=False)"
   ]
  },
  {
   "cell_type": "code",
   "execution_count": null,
   "metadata": {},
   "outputs": [],
   "source": [
    "#print the gene list with adj_pval and log2fc\n",
    "df_WT_GW_tuft"
   ]
  },
  {
   "cell_type": "code",
   "execution_count": null,
   "metadata": {},
   "outputs": [],
   "source": [
    "#select columns you'd like to work on, sort the values by adj_pval or Log2FC, '2_l'means we chose to sort batch#2 log2fc\n",
    "WT_GW_tuft=df_WT_GW_tuft.sort_values(by='2_l',axis=0,ascending=False)"
   ]
  },
  {
   "cell_type": "code",
   "execution_count": null,
   "metadata": {},
   "outputs": [],
   "source": [
    "#after sorted by log2fc then we filter pval for significant genes\n",
    "df_ranked_genes_tuft = WT_GW_tuft[WT_GW_tuft['2_p'] < 0.05]\n",
    "df_ranked_genes_tuft = df_ranked_genes_tuft[abs(df_ranked_genes_tuft['2_l']) >2]\n",
    "#show column with all the genes\n",
    "df_ranked_genes_tuft['2_n']"
   ]
  },
  {
   "cell_type": "code",
   "execution_count": null,
   "metadata": {},
   "outputs": [],
   "source": [
    "df_ranked_genes_tuft"
   ]
  },
  {
   "cell_type": "code",
   "execution_count": null,
   "metadata": {},
   "outputs": [],
   "source": [
    "#show column with all the genes\n",
    "df_ranked_genes_tuft['2_n']"
   ]
  },
  {
   "cell_type": "code",
   "execution_count": null,
   "metadata": {},
   "outputs": [],
   "source": [
    "#generate heatmaps for the cluster you're working on, all the batches, and transform the genes from dateframe to a list\n",
    "sc.pl.heatmap(tuft,groupby='batch',var_names=df_ranked_genes_tuft['2_n'].tolist(),use_raw=True,swap_axes=True,standard_scale='var', cmap='coolwarm')\n"
   ]
  }
 ],
 "metadata": {
  "kernelspec": {
   "display_name": "Python 3",
   "language": "python",
   "name": "python3"
  },
  "language_info": {
   "codemirror_mode": {
    "name": "ipython",
    "version": 3
   },
   "file_extension": ".py",
   "mimetype": "text/x-python",
   "name": "python",
   "nbconvert_exporter": "python",
   "pygments_lexer": "ipython3",
   "version": "3.7.3"
  }
 },
 "nbformat": 4,
 "nbformat_minor": 2
}
