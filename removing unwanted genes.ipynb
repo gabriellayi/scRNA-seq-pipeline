{
 "cells": [
  {
   "cell_type": "code",
   "execution_count": 1,
   "metadata": {},
   "outputs": [],
   "source": [
    "import anndata"
   ]
  },
  {
   "cell_type": "code",
   "execution_count": null,
   "metadata": {},
   "outputs": [],
   "source": [
    "#copy your data so you don't mess up the original\n",
    "data_filtered = data.copy()"
   ]
  },
  {
   "cell_type": "code",
   "execution_count": null,
   "metadata": {},
   "outputs": [],
   "source": [
    "#make a new anndata file from the .raw of the data.\n",
    "#The 'raw' is used for ranked genes groups, so we need to change this.\n",
    "data_filtered_raw = anndata.AnnData(data_filtered.raw.X,data_filtered.raw.obs_names,data_filtered.raw.var_names)"
   ]
  },
  {
   "cell_type": "code",
   "execution_count": null,
   "metadata": {},
   "outputs": [],
   "source": [
    "#this is a fix for an issue that causes the new gene names to be numbers for data_filtered_raw\n",
    "data_filtered_raw.var = data_filtered.raw.var"
   ]
  },
  {
   "cell_type": "code",
   "execution_count": null,
   "metadata": {},
   "outputs": [],
   "source": [
    "#this runs through every gene and checks whether it isn't a ribosomal large/small gene or a mitochondiral gene.\n",
    "#It only keeps the gene if this is true and transfers it to a new list called 'kept_genes'\n",
    "kept_genes = [i for i in data_filtered_raw.var_names if not (('Rpl' in i) or ('Rps' in i) or ('mt-' in i))]"
   ]
  },
  {
   "cell_type": "code",
   "execution_count": null,
   "metadata": {},
   "outputs": [],
   "source": [
    "#here, the data_filtered_raw is re-indexed with the shorter list of genes.\n",
    "#By writing [:,kept_genes], we keep all the cells (represented by the colon) and choose only genes in kept_genes.\n",
    "#Then, this is stored as the new raw for data_filtered.\n",
    "data_filtered.raw = data_filtered_raw[:,kept_genes]"
   ]
  },
  {
   "cell_type": "code",
   "execution_count": null,
   "metadata": {},
   "outputs": [],
   "source": [
    "#From here, you can run rank_genes_groups on the data_filtered and it should exclude all specified genes from this analysis.\n",
    "\n"
   ]
  }
 ],
 "metadata": {
  "kernelspec": {
   "display_name": "Python 3",
   "language": "python",
   "name": "python3"
  },
  "language_info": {
   "codemirror_mode": {
    "name": "ipython",
    "version": 3
   },
   "file_extension": ".py",
   "mimetype": "text/x-python",
   "name": "python",
   "nbconvert_exporter": "python",
   "pygments_lexer": "ipython3",
   "version": "3.7.4"
  }
 },
 "nbformat": 4,
 "nbformat_minor": 2
}
